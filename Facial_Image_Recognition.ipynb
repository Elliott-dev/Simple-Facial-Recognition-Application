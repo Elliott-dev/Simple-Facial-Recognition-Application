{
 "cells": [
  {
   "cell_type": "code",
   "execution_count": 1,
   "id": "551455bc-ba15-48f9-915f-817c0aca07df",
   "metadata": {
    "tags": []
   },
   "outputs": [
    {
     "name": "stdout",
     "output_type": "stream",
     "text": [
      "Did not match the image: bush.jpg\n",
      "Did not match the image: bush02.jpg\n",
      "Did not match the image: bushsr.jpg\n",
      "Did not match the image: carter.jpg\n",
      "Did not match the image: clinton.jpg\n",
      "Did not match the image: clinton02.jpg\n",
      "Did not match the image: obama.jpg\n",
      "Did not match the image: obama02.jpg\n",
      "Did not match the image: reagan.jpg\n",
      "Did not match the image: reagan02.jpg\n",
      "Matched the image: trump.jpg\n",
      "Matched the image: trump01.jpg\n",
      "Matched the image: trump02.jpg\n"
     ]
    }
   ],
   "source": [
    "import os\n",
    "import face_recognition\n",
    "\n",
    "# Specify the directory containing the images to compare\n",
    "images_directory = 'C:/Users/User/Downloads/photos'\n",
    "images = os.listdir(images_directory)\n",
    "\n",
    "# Load the reference image to which other images will be compared\n",
    "reference_image_path = 'C:/Users/User/Downloads/photos/trump.jpg'\n",
    "image_to_be_matched = face_recognition.load_image_file(reference_image_path)\n",
    "\n",
    "# Convert the reference image into a feature vector using face encodings\n",
    "# Face encodings turn the facial features into a vector that can be compared\n",
    "image_to_be_matched_encoded = face_recognition.face_encodings(image_to_be_matched)[0]\n",
    "\n",
    "# Iterate over each image in the specified directory\n",
    "for image in images:\n",
    "    # Construct the path to the image and load it\n",
    "    current_image_path = os.path.join(images_directory, image)\n",
    "    current_image = face_recognition.load_image_file(current_image_path)\n",
    "    \n",
    "    # Attempt to create a feature vector for the current image\n",
    "    # This function returns a list of encodings (in case there are multiple faces in one image)\n",
    "    current_image_encoded_list = face_recognition.face_encodings(current_image)\n",
    "    \n",
    "    # Check if at least one face was found in the image\n",
    "    if current_image_encoded_list:\n",
    "        current_image_encoded = current_image_encoded_list[0]\n",
    "        \n",
    "        # Compare the feature vector of the reference image to the current image\n",
    "        # The result is a list of True/False values indicating if the faces match\n",
    "        result = face_recognition.compare_faces([image_to_be_matched_encoded], current_image_encoded)\n",
    "        \n",
    "        # Print the result of the comparison\n",
    "        if result[0]:\n",
    "            print(\"Matched the image: \" + image)\n",
    "        else:\n",
    "            print(\"Did not match the image: \" + image)\n",
    "    else:\n",
    "        # No faces were found in the current image\n",
    "        print(\"No faces found in the image: \" + image)\n"
   ]
  },
  {
   "cell_type": "code",
   "execution_count": null,
   "id": "6bc8b57a-05ac-41df-90e4-af4cdf4e68ae",
   "metadata": {},
   "outputs": [],
   "source": []
  }
 ],
 "metadata": {
  "kernelspec": {
   "display_name": "Python 3 (ipykernel)",
   "language": "python",
   "name": "python3"
  },
  "language_info": {
   "codemirror_mode": {
    "name": "ipython",
    "version": 3
   },
   "file_extension": ".py",
   "mimetype": "text/x-python",
   "name": "python",
   "nbconvert_exporter": "python",
   "pygments_lexer": "ipython3",
   "version": "3.11.7"
  }
 },
 "nbformat": 4,
 "nbformat_minor": 5
}
